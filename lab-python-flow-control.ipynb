{
 "cells": [
  {
   "cell_type": "markdown",
   "id": "d3bfc191-8885-42ee-b0a0-bbab867c6f9f",
   "metadata": {
    "tags": []
   },
   "source": [
    "# Lab | Flow Control"
   ]
  },
  {
   "cell_type": "markdown",
   "id": "3851fcd1-cf98-4653-9c89-e003b7ec9400",
   "metadata": {},
   "source": [
    "## Exercise: Managing Customer Orders Optimized\n",
    "\n",
    "In the last lab, you were starting an online store that sells various products. To ensure smooth operations, you developed a program that manages customer orders and inventory.\n",
    "\n",
    "You did so without using flow control. Let's go a step further and improve this code.\n",
    "\n",
    "Follow the steps below to complete the exercise:\n",
    "\n",
    "1. Look at your code from the lab data structures, and improve repeated code with loops.\n",
    "\n",
    "2. Instead of asking the user to input the name of three products that a customer wants to order, do the following:\n",
    "    \n",
    "    a. Prompt the user to enter the name of a product that a customer wants to order.\n",
    "    \n",
    "    b. Add the product name to the \"customer_orders\" set.\n",
    "    \n",
    "    c. Ask the user if they want to add another product (yes/no).\n",
    "    \n",
    "    d. Continue the loop until the user does not want to add another product.\n",
    "\n",
    "3. Instead of updating the inventory by subtracting 1 from the quantity of each product, only do it for  the products that were ordered (those in \"customer_orders\")."
   ]
  },
  {
   "cell_type": "code",
   "execution_count": 5,
   "id": "3c96e638-b732-40c6-b622-443d874cf32b",
   "metadata": {},
   "outputs": [
    {
     "name": "stdin",
     "output_type": "stream",
     "text": [
      "How many t-shirts are there? 1\n",
      "How many mugs are there? 2\n",
      "How many hats are there? 3\n",
      "How many books are there? 4\n",
      "How many keychains are there? 5\n"
     ]
    },
    {
     "name": "stdout",
     "output_type": "stream",
     "text": [
      "{'t-shirt': 1, 'mug': 2, 'hat': 3, 'book': 4, 'keychain': 5}\n"
     ]
    }
   ],
   "source": [
    "products = [\"t-shirt\", \"mug\", \"hat\", \"book\", \"keychain\"]\n",
    "inventory = {}\n",
    "order_list = []\n",
    "customer_orders = {}\n",
    "\n",
    "for item in products:\n",
    "    quantity = int(input(f\"How many {item}s are there?\"))\n",
    "    inventory[item] = quantity\n",
    "\n",
    "print(inventory)"
   ]
  },
  {
   "cell_type": "code",
   "execution_count": 7,
   "id": "26887e6b-dbd8-4306-a4ce-ca028a569088",
   "metadata": {},
   "outputs": [
    {
     "name": "stdin",
     "output_type": "stream",
     "text": [
      "Which item would you like to order? Your options are ['t-shirt', 'mug', 'hat', 'book', 'keychain'] mug\n"
     ]
    },
    {
     "name": "stdout",
     "output_type": "stream",
     "text": [
      "1 mug has been ordered.\n",
      "Your order is: {'mug': 1}\n"
     ]
    },
    {
     "name": "stdin",
     "output_type": "stream",
     "text": [
      "Would you like to order something else? YES or NO? YES\n",
      "Which item would you like to order? Your options are ['t-shirt', 'mug', 'hat', 'book', 'keychain'] hat\n"
     ]
    },
    {
     "name": "stdout",
     "output_type": "stream",
     "text": [
      "1 hat has been ordered.\n",
      "Your order is: {'mug': 1, 'hat': 1}\n"
     ]
    }
   ],
   "source": [
    "imp_order = input(f\"Which item would you like to order? Your options are {products}\")\n",
    "customer_orders = {imp_order:1}\n",
    "print(f\"1 {imp_order} has been ordered.\")\n",
    "print(f\"Your order is: {customer_orders}\")\n",
    "yes_no = input(\"Would you like to order something else? YES or NO?\")\n",
    "if yes_no == \"YES\":\n",
    "    imp_order = input(f\"Which item would you like to order? Your options are {products}\")\n",
    "    if imp_order in customer_orders:\n",
    "        customer_orders[imp_order] = customer_orders.get(imp_order) + 1\n",
    "        print(f\"1 {imp_order} has been ordered.\")\n",
    "        print(f\"Your full order is: {customer_orders}\")\n",
    "    else:\n",
    "        customer_orders[imp_order] = 1\n",
    "        print(f\"1 {imp_order} has been ordered.\")\n",
    "        print(f\"Your order is: {customer_orders}\")\n",
    "else:\n",
    "    print(f\"Order complete. You have ordered: {customer_orders}\")"
   ]
  },
  {
   "cell_type": "code",
   "execution_count": 11,
   "id": "68a6d727-1d55-484c-b13f-d6bae1566e9d",
   "metadata": {},
   "outputs": [
    {
     "name": "stdout",
     "output_type": "stream",
     "text": [
      "2\n",
      "{'mug': 1, 'hat': 1}\n"
     ]
    }
   ],
   "source": [
    "print(len(customer_orders))\n",
    "print(customer_orders)"
   ]
  },
  {
   "cell_type": "code",
   "execution_count": 13,
   "id": "6240c84e-b714-4f3b-97fc-a539cb2e01cb",
   "metadata": {},
   "outputs": [
    {
     "name": "stdout",
     "output_type": "stream",
     "text": [
      "(2, 13.333333333333334)\n",
      "Order Statistics:\n",
      "Total Products Ordered: 2\n",
      "Percentage of Products Ordered: 13%\n"
     ]
    }
   ],
   "source": [
    "order_status = (len(customer_orders), len(customer_orders)/sum(inventory.values())*100)\n",
    "print(order_status)\n",
    "\n",
    "print(\"Order Statistics:\")\n",
    "print(f\"Total Products Ordered: {len(customer_orders)}\")\n",
    "print(f\"Percentage of Products Ordered: {round(len(customer_orders)/sum(inventory.values())*100)}%\")"
   ]
  },
  {
   "cell_type": "code",
   "execution_count": 15,
   "id": "6905a8ad-1b5a-4ada-bae0-5be6b66c3d81",
   "metadata": {},
   "outputs": [
    {
     "name": "stdout",
     "output_type": "stream",
     "text": [
      "{'mug': 1, 'hat': 1}\n",
      "{'t-shirt': 1, 'mug': 2, 'hat': 3, 'book': 4, 'keychain': 5}\n"
     ]
    }
   ],
   "source": [
    "print(customer_orders)\n",
    "print(inventory)"
   ]
  },
  {
   "cell_type": "code",
   "execution_count": 19,
   "id": "f0ce57ef-5fd6-4f04-8b9d-5d2756423571",
   "metadata": {},
   "outputs": [
    {
     "name": "stdout",
     "output_type": "stream",
     "text": [
      "t-shirt : 1\n",
      "mug : 0\n",
      "hat : 1\n",
      "book : 4\n",
      "keychain : 5\n"
     ]
    }
   ],
   "source": [
    "for key, value in customer_orders.items():\n",
    "    inventory[key] = inventory.get(key) - value\n",
    "\n",
    "for key, value in inventory.items():\n",
    "    print(f\"{key} : {value}\")"
   ]
  },
  {
   "cell_type": "code",
   "execution_count": null,
   "id": "0d88a421-490c-4f90-bcb3-fd7f9a58baca",
   "metadata": {},
   "outputs": [],
   "source": []
  }
 ],
 "metadata": {
  "kernelspec": {
   "display_name": "Python 3 (ipykernel)",
   "language": "python",
   "name": "python3"
  },
  "language_info": {
   "codemirror_mode": {
    "name": "ipython",
    "version": 3
   },
   "file_extension": ".py",
   "mimetype": "text/x-python",
   "name": "python",
   "nbconvert_exporter": "python",
   "pygments_lexer": "ipython3",
   "version": "3.12.4"
  }
 },
 "nbformat": 4,
 "nbformat_minor": 5
}
